{
  "nbformat": 4,
  "nbformat_minor": 0,
  "metadata": {
    "accelerator": "GPU",
    "colab": {
      "name": "Shunya Data Science.ipynb",
      "provenance": [],
      "collapsed_sections": [],
      "toc_visible": true
    },
    "kernelspec": {
      "display_name": "Python 3",
      "name": "python3"
    }
  },
  "cells": [
    {
      "cell_type": "markdown",
      "metadata": {
        "id": "bIB4eyXdLRkW"
      },
      "source": [
        "# Building a Custom YOLOv4 Object Detector for Identifying Images with Labels in any given Image.\n",
        "\\- By [Karan Jagtiani](https://www.linkedin.com/in/karanjagtiani/)\n",
        "\n",
        "## Step 1: Preparing the files.\n",
        "### 1. Training Images\n",
        "I have used the 50 images provided in the drive link below and have labelled them with [LabelImg](https://github.com/tzutalin/labelImg).\n",
        "### 2. Testing Images\n",
        "I have used the 7 total images provided in the drive link below.\n",
        "### 3. Yolo Files\n",
        "i) Yolov4 Configuration File (.cfg) [Link](https://github.com/AlexeyAB/darknet/releases/download/darknet_yolo_v3_optimal/yolov4.cfg)  \n",
        "Make the following changes to suit your needs, these are my changes to the following fields:  \n",
        "```\n",
        "width: 416  \n",
        "height: 416  \n",
        "// The above can be increased to 608x608 for better accuracy (but longer computation time).  \n",
        "max_batches=2000  \n",
        "steps=1600,1800  \n",
        "classes=1   \n",
        "```\n",
        "\n",
        "ii) obj.data\n",
        "```\n",
        "classes = 1\n",
        "train = data/train.txt\n",
        "valid = data/test.txt\n",
        "names = data/obj.names\n",
        "backup = /mydrive/Shunya/backup/\n",
        "```\n",
        "\n",
        "iii) obj.names (File with the classes seperated by line breaks)\n",
        "```\n",
        "object\n",
        "```\n",
        "\n",
        "iv) Yolov4 Pre-trained model file  \n",
        "[Link](https://github.com/AlexeyAB/darknet/releases/download/darknet_yolo_v3_optimal/yolov4.conv.137)\n",
        "\n",
        "v) Renaming all training images according to a particular convention.  \n",
        "- Example: 00000001.jpg  \n",
        "- This script is also provided in the drive.\n",
        "\n",
        "vi) Add all the images with their labels to a .rar file and upload to your desired folder in your drive.\n",
        "\n",
        "## Step 2: Training the model.\n",
        "- Go throught all the code blocks one by one in order to get your model trained.\n",
        "\n",
        "## Finishing Up\n",
        "1) Download and configure the files according to your needs and in the folder structure you want and upload it to your drive. Then change the URLs mentinoned in code blocks below according to your requirements.\n",
        "\n",
        "\n",
        "2) All the files mentioned above that were used in my case are provided in this Drive Folder for reference.\n",
        "[Drive Link](https://drive.google.com/drive/folders/1gCdWj3GLAYmT48m_W8HExjCEagUiyQ_s?usp=sharing)"
      ]
    },
    {
      "cell_type": "code",
      "metadata": {
        "id": "9e9ZW3sqMEPO"
      },
      "source": [
        "# Link your Google Drive with this collab instance.\n",
        "from google.colab import drive\n",
        "drive.mount('/content/gdrive')"
      ],
      "execution_count": null,
      "outputs": []
    },
    {
      "cell_type": "code",
      "metadata": {
        "id": "8xNyEmT-fWOr"
      },
      "source": [
        "# Create a symbolic link to access files from drive easily\n",
        "!ln -s /content/gdrive/My\\ Drive/ /mydrive"
      ],
      "execution_count": null,
      "outputs": []
    },
    {
      "cell_type": "code",
      "metadata": {
        "id": "bwp6NIrsZZFP"
      },
      "source": [
        "# Check for the NVIDIA GPU information\n",
        "!nvidia-smi"
      ],
      "execution_count": null,
      "outputs": []
    },
    {
      "cell_type": "code",
      "metadata": {
        "id": "e03U7Zi-qMr2"
      },
      "source": [
        "# Cloneing the 'darknet' object detection model\n",
        "!git clone https://github.com/AlexeyAB/darknet"
      ],
      "execution_count": null,
      "outputs": []
    },
    {
      "cell_type": "code",
      "metadata": {
        "id": "5H-Taj06Tw1c"
      },
      "source": [
        "# change makefile to have GPU and OPENCV enabled\n",
        "%cd darknet\n",
        "!sed -i 's/OPENCV=0/OPENCV=1/' Makefile\n",
        "!sed -i 's/GPU=0/GPU=1/' Makefile\n",
        "!sed -i 's/CUDNN=0/CUDNN=1/' Makefile\n",
        "!sed -i 's/CUDNN_HALF=0/CUDNN_HALF=1/' Makefile"
      ],
      "execution_count": null,
      "outputs": []
    },
    {
      "cell_type": "code",
      "metadata": {
        "id": "P4W1PYdytRS8"
      },
      "source": [
        "# Compile darknet\n",
        "!make"
      ],
      "execution_count": null,
      "outputs": []
    },
    {
      "cell_type": "code",
      "metadata": {
        "id": "q5BoegqXaCSI"
      },
      "source": [
        "# List out the folders in your drive.\n",
        "!ls /mydrive"
      ],
      "execution_count": null,
      "outputs": []
    },
    {
      "cell_type": "code",
      "metadata": {
        "id": "yBWuKeQZD6re"
      },
      "source": [
        "# Copy the files needed for the configuration of training from drive to the VM.\n",
        "!cp /mydrive/Shunya/yolov4_custom_custom.cfg ./cfg\n",
        "!cp /mydrive/Shunya/obj.names ./data\n",
        "!cp /mydrive/Shunya/obj.data  ./data"
      ],
      "execution_count": null,
      "outputs": []
    },
    {
      "cell_type": "code",
      "metadata": {
        "id": "ji_qpl48kgL4"
      },
      "source": [
        "# Get the labelled images rar file from the drive.\n",
        "!cp /mydrive/Shunya/images.rar ./data\n",
        "!mkdir data/images\n",
        "!unrar e ./data/images.rar -d data/images"
      ],
      "execution_count": null,
      "outputs": []
    },
    {
      "cell_type": "code",
      "metadata": {
        "id": "5I_0ht7ITMUu"
      },
      "source": [
        "\"\"\"Verify All Images Before Training with OpenCV\"\"\"\n",
        "import os\n",
        "import cv2\n",
        "\n",
        "imagesPath = 'data/images'\n",
        "\n",
        "count = 0\n",
        "total = 0\n",
        "print(\"Testing Images with Open CV...\")\n",
        "for dirname in os.listdir(imagesPath):\n",
        "    if(dirname.endswith(\".png\") or dirname.endswith(\".jpg\") or dirname.endswith(\".jpeg\")):\n",
        "        delete = False\n",
        "        finalDir = imagesPath + \"/\" + dirname\n",
        "        try:\n",
        "            image = cv2.imread(finalDir)\n",
        "            if image is None:\n",
        "                delete = True\n",
        "                count += 1\n",
        "            #else:\n",
        "            #  print(dirname + \" Successfully Opened.\")\n",
        "        except:\n",
        "            delete = True\n",
        "            count += 1\n",
        "        if delete:\n",
        "            print(\"Deleting: \" + finalDir)\n",
        "            os.remove(finalDir)\n",
        "            os.remove(finalDir.split(\".\")[0]+\".txt\")\n",
        "        total += 1\n",
        "\n",
        "print(count, \"Images were not readable.\")\n",
        "print(\"Deleted\", count, \"Images out of total\", total, \"Images.\")\n",
        "print(total-count, \"Images Remaining.\")"
      ],
      "execution_count": null,
      "outputs": []
    },
    {
      "cell_type": "code",
      "metadata": {
        "id": "nOK4gkv5WJGx"
      },
      "source": [
        "\"\"\" Deleting those files which dont have a corresponding label file or a image file. \"\"\"\n",
        "listDir = os.listdir(imagesPath)\n",
        "for dirname in listDir:\n",
        "    i = 0\n",
        "    x = dirname.split(\".\")[0]\n",
        "    for inner in listDir:\n",
        "        if(x == inner.split(\".\")[0]):\n",
        "            extension = inner.split(\".\")[1]\n",
        "            if(extension == 'png' or extension == 'jpg' or extension == 'jpeg' or extension  == 'txt'):\n",
        "                i += 1\n",
        "                if(i == 2):\n",
        "                    break\n",
        "    if(i < 2):\n",
        "        finalDir = imagesPath + \"/\" + dirname\n",
        "        print(\"Removing:\", finalDir + \" since it doesnt have its correspoding file.\")\n",
        "        os.remove(finalDir)"
      ],
      "execution_count": null,
      "outputs": []
    },
    {
      "cell_type": "markdown",
      "metadata": {
        "id": "GBIeWTR0KtLD"
      },
      "source": [
        "**Prepare for training**"
      ]
    },
    {
      "cell_type": "code",
      "metadata": {
        "id": "yrAIevWIWS9E"
      },
      "source": [
        "import glob\n",
        "images_list = glob.glob(\"data/images/*.png\") + glob.glob(\"data/images/*.jpg\") + glob.glob(\"data/images/*.jpeg\")\n",
        "print(images_list)\n",
        "print(len(images_list))"
      ],
      "execution_count": null,
      "outputs": []
    },
    {
      "cell_type": "code",
      "metadata": {
        "id": "EzygoAtMSnon"
      },
      "source": [
        "#Create training.txt file\n",
        "file = open(\"data/train.txt\", \"w\") \n",
        "file.write(\"\\n\".join(images_list)) \n",
        "file.close() "
      ],
      "execution_count": null,
      "outputs": []
    },
    {
      "cell_type": "code",
      "metadata": {
        "id": "7QWdxcgJ1lMx"
      },
      "source": [
        "!rm yolov4_custom_custom_last.weights"
      ],
      "execution_count": null,
      "outputs": []
    },
    {
      "cell_type": "code",
      "metadata": {
        "id": "eZlkzFMW7I_N"
      },
      "source": [
        "# Download weights yolov4.conv.137\n",
        "!cp /mydrive/Shunya/yolov4.conv.137 ./\n",
        "# !cp /mydrive/Shunya/backup/yolov4_custom_custom_last.weights ./"
      ],
      "execution_count": null,
      "outputs": []
    },
    {
      "cell_type": "code",
      "metadata": {
        "id": "kTRdNyH2g9Ny"
      },
      "source": [
        "# Start the training\n",
        "!./darknet detector train data/obj.data cfg/yolov4_custom_custom.cfg yolov4.conv.137 -dont_show\n",
        "# !./darknet detector train data/obj.data cfg/yolov4_custom_custom.cfg yolov4_custom_custom_last.weights -dont_show"
      ],
      "execution_count": null,
      "outputs": []
    },
    {
      "cell_type": "markdown",
      "metadata": {
        "id": "ZGeYiv6dQZoH"
      },
      "source": [
        "Once the model is done training, you will have the model saved in your drive in the 'backup' folder with the name: model_final.weights\n",
        "\n",
        "## Happy Detecting!"
      ]
    }
  ]
}